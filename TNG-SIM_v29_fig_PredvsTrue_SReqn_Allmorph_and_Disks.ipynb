{
 "cells": [
  {
   "cell_type": "code",
   "execution_count": 1,
   "metadata": {},
   "outputs": [],
   "source": [
    "import time\n",
    "import numpy as np\n",
    "import pandas as pd\n",
    "\n",
    "import galsim #install with conda install -c conda_forge galsim\n",
    "\n",
    "import matplotlib.pyplot as plt\n",
    "from matplotlib import pyplot\n",
    "import matplotlib.cm as cm\n",
    "import matplotlib.colors as norm\n",
    "from matplotlib.gridspec import SubplotSpec\n",
    "import seaborn as sns\n",
    "\n",
    "from scipy import stats\n",
    "from sklearn.linear_model import LinearRegression\n",
    "from sklearn.ensemble import RandomForestRegressor\n",
    "from sklearn import svm\n",
    "from sklearn.svm import SVR\n",
    "\n",
    "from sklearn.model_selection import train_test_split\n",
    "from sklearn.model_selection import RandomizedSearchCV, GridSearchCV\n",
    "from sklearn.model_selection import cross_validate, KFold, StratifiedKFold\n",
    "from sklearn.model_selection import cross_val_predict\n",
    "from sklearn.model_selection import cross_val_score\n",
    "from sklearn.metrics import r2_score\n",
    "from sklearn.inspection import permutation_importance\n",
    "from sklearn.pipeline import make_pipeline #This allows one to build different steps together\n",
    "from sklearn.preprocessing import StandardScaler, RobustScaler\n",
    "\n",
    "from sklearn.metrics import mean_absolute_error, mean_squared_error, mean_absolute_percentage_error\n",
    "\n",
    "from tqdm import tqdm \n",
    "\n",
    "import target_predicting_RF_function_and_feature_ranking_TNGSIM as functions\n",
    "import RF_target_predicting_and_learning_curves_functions_TNGSIM as tp_lc_functions"
   ]
  },
  {
   "cell_type": "raw",
   "metadata": {},
   "source": [
    "import os \n",
    "os.mkdir('TNG-SIM_images/v29_fig_SReqn_allmorph_disks')"
   ]
  },
  {
   "cell_type": "code",
   "execution_count": 2,
   "metadata": {},
   "outputs": [
    {
     "name": "stdout",
     "output_type": "stream",
     "text": [
      "df_0D.shape (21598, 17)\n",
      "df_raw.shape (21598, 19)\n"
     ]
    }
   ],
   "source": [
    "# Using the 0D TNG100 SIM data at z=0 (version 6 of the dataset that includes Mvir in this notebook, \n",
    "# for further explanation see Notebook v3 updated and v14)\n",
    "\n",
    "df_0D = pd.read_csv('TNG-SIM_images/v3_initial_analysis/v6_TNG-SIM_0D_Dataset_wMvir.csv')\n",
    "df_raw = pd.read_csv('TNG-SIM_images/v3_initial_analysis/v4_TNG-SIM_Raw_Dataset.csv')\n",
    "print(\"df_0D.shape\", df_0D.shape)\n",
    "print(\"df_raw.shape\", df_raw.shape)"
   ]
  },
  {
   "cell_type": "raw",
   "metadata": {},
   "source": [
    "def log_df(df_init):\n",
    "    \n",
    "    df = df_init.copy()\n",
    "    for feature in df.columns.to_list():\n",
    "        if 'log' not in feature:\n",
    "            df.loc[:, feature + '_log']=df.loc[:,feature].apply(lambda x: np.log10(x + 1.e-8))\n",
    "            df.drop(columns = [feature], inplace = True)\n",
    "#             print(df.loc[:, feature])\n",
    "        else:continue\n",
    "        \n",
    "    return df\n",
    "\n",
    "df_raw_log = log_df(df_raw)\n",
    "\n",
    "print('df_raw_log.shape', df_raw_log.shape)\n",
    "\n",
    "df_0D_log = log_df(df_0D)\n",
    "\n",
    "print('df_0D_log.shape', df_0D_log.shape)"
   ]
  },
  {
   "cell_type": "markdown",
   "metadata": {},
   "source": [
    "## <font color='purple'> <a id =10> </a> <br> All morphologies w 5 most important features from SVR"
   ]
  },
  {
   "cell_type": "markdown",
   "metadata": {},
   "source": [
    "### <font color='purple'> <a id =10> </a> <br> All morphologies Raw and 0D Dataset SR predicted 'best' equations "
   ]
  },
  {
   "cell_type": "code",
   "execution_count": 3,
   "metadata": {},
   "outputs": [
    {
     "name": "stdout",
     "output_type": "stream",
     "text": [
      "(21598,)\n",
      "(21598,)\n",
      "(21598,)\n"
     ]
    }
   ],
   "source": [
    "# SR predicted 'best' equation for Rstar, using n_iter=10K\n",
    "y_pred_SR_raw = 7.82e-7 * (1/df_raw.SubhaloStarMetallicity) * (df_raw.SubhaloMstar)**0.5\n",
    "# SR_raw is simply Rstar = (7.82e-7) * (1/Zstar) * sqrt(Mstar)\n",
    "\n",
    "# SR predicted 'best' equation for Rstar/Rvir, using n_iter=10K\n",
    "y_pred_SR_0D = (1.85e-7) * (df_raw.SubhaloMstar/df_0D.SubhaloStarMetallicity**2) * (1 / df_0D.Group_M_TopHat200**0.72) *df_raw.Group_R_TopHat200\n",
    "\n",
    "# SR_0D eqn is simply Rstar = (1.85e-7)*(Mstar/Zstar**2)*(1/Mvir**0.72)*Rvir\n",
    "\n",
    "# SR raw and SR 0D predicted Rstar, and true Rstar\n",
    "\n",
    "\n",
    "y_true = df_raw.loc[:, 'SubhaloRstar']\n",
    "print(y_pred_SR_raw.shape)\n",
    "print(y_true.shape)\n",
    "\n",
    "print(y_pred_SR_0D.shape)\n",
    "\n",
    "# Make a df with pred_true values to use w seaborn\n",
    "\n",
    "df_pred_true = pd.DataFrame({'y_pred_SR_raw' : y_pred_SR_raw, \n",
    "                             'y_pred_SR_0D': y_pred_SR_0D,\n",
    "                             'y_true' : df_raw.loc[:, 'SubhaloRstar']})"
   ]
  },
  {
   "cell_type": "code",
   "execution_count": 4,
   "metadata": {},
   "outputs": [
    {
     "data": {
      "text/html": [
       "<div>\n",
       "<style scoped>\n",
       "    .dataframe tbody tr th:only-of-type {\n",
       "        vertical-align: middle;\n",
       "    }\n",
       "\n",
       "    .dataframe tbody tr th {\n",
       "        vertical-align: top;\n",
       "    }\n",
       "\n",
       "    .dataframe thead th {\n",
       "        text-align: right;\n",
       "    }\n",
       "</style>\n",
       "<table border=\"1\" class=\"dataframe\">\n",
       "  <thead>\n",
       "    <tr style=\"text-align: right;\">\n",
       "      <th></th>\n",
       "      <th>y_pred_SR_raw</th>\n",
       "      <th>y_pred_SR_0D</th>\n",
       "      <th>y_true</th>\n",
       "    </tr>\n",
       "  </thead>\n",
       "  <tbody>\n",
       "    <tr>\n",
       "      <th>0</th>\n",
       "      <td>48.442134</td>\n",
       "      <td>39.582969</td>\n",
       "      <td>67.312584</td>\n",
       "    </tr>\n",
       "    <tr>\n",
       "      <th>1</th>\n",
       "      <td>53.786849</td>\n",
       "      <td>47.072111</td>\n",
       "      <td>125.480890</td>\n",
       "    </tr>\n",
       "    <tr>\n",
       "      <th>2</th>\n",
       "      <td>56.421061</td>\n",
       "      <td>56.610051</td>\n",
       "      <td>82.916380</td>\n",
       "    </tr>\n",
       "    <tr>\n",
       "      <th>3</th>\n",
       "      <td>37.663909</td>\n",
       "      <td>32.239008</td>\n",
       "      <td>28.387566</td>\n",
       "    </tr>\n",
       "    <tr>\n",
       "      <th>4</th>\n",
       "      <td>37.555492</td>\n",
       "      <td>27.928174</td>\n",
       "      <td>50.823353</td>\n",
       "    </tr>\n",
       "    <tr>\n",
       "      <th>...</th>\n",
       "      <td>...</td>\n",
       "      <td>...</td>\n",
       "      <td>...</td>\n",
       "    </tr>\n",
       "    <tr>\n",
       "      <th>21593</th>\n",
       "      <td>1.847266</td>\n",
       "      <td>3.422108</td>\n",
       "      <td>3.610431</td>\n",
       "    </tr>\n",
       "    <tr>\n",
       "      <th>21594</th>\n",
       "      <td>1.263200</td>\n",
       "      <td>1.909017</td>\n",
       "      <td>3.105893</td>\n",
       "    </tr>\n",
       "    <tr>\n",
       "      <th>21595</th>\n",
       "      <td>1.693650</td>\n",
       "      <td>3.289228</td>\n",
       "      <td>4.197745</td>\n",
       "    </tr>\n",
       "    <tr>\n",
       "      <th>21596</th>\n",
       "      <td>1.336082</td>\n",
       "      <td>2.159261</td>\n",
       "      <td>2.867348</td>\n",
       "    </tr>\n",
       "    <tr>\n",
       "      <th>21597</th>\n",
       "      <td>1.256521</td>\n",
       "      <td>1.999978</td>\n",
       "      <td>3.620246</td>\n",
       "    </tr>\n",
       "  </tbody>\n",
       "</table>\n",
       "<p>21598 rows × 3 columns</p>\n",
       "</div>"
      ],
      "text/plain": [
       "       y_pred_SR_raw  y_pred_SR_0D      y_true\n",
       "0          48.442134     39.582969   67.312584\n",
       "1          53.786849     47.072111  125.480890\n",
       "2          56.421061     56.610051   82.916380\n",
       "3          37.663909     32.239008   28.387566\n",
       "4          37.555492     27.928174   50.823353\n",
       "...              ...           ...         ...\n",
       "21593       1.847266      3.422108    3.610431\n",
       "21594       1.263200      1.909017    3.105893\n",
       "21595       1.693650      3.289228    4.197745\n",
       "21596       1.336082      2.159261    2.867348\n",
       "21597       1.256521      1.999978    3.620246\n",
       "\n",
       "[21598 rows x 3 columns]"
      ]
     },
     "execution_count": 4,
     "metadata": {},
     "output_type": "execute_result"
    }
   ],
   "source": [
    "df_pred_true"
   ]
  },
  {
   "cell_type": "code",
   "execution_count": 8,
   "metadata": {},
   "outputs": [
    {
     "name": "stdout",
     "output_type": "stream",
     "text": [
      "r2 SR_raw  0.8\n",
      "r2 SR_0D  0.78\n",
      "mape SR_raw 0.2186863679726982\n",
      "mape SR_0D 0.18685105160971152\n"
     ]
    }
   ],
   "source": [
    "r2_SR_raw = np.round(r2_score(y_true, y_pred_SR_raw), 2)\n",
    "print('r2 SR_raw ', r2_SR_raw)\n",
    "r2_SR_0D = np.round(r2_score(y_true, y_pred_SR_0D), 2)\n",
    "print('r2 SR_0D ', r2_SR_0D)\n",
    "mape_SR_raw = mean_absolute_percentage_error(y_true, y_pred_SR_raw)\n",
    "mape_SR_0D = mean_absolute_percentage_error(y_true, y_pred_SR_0D)\n",
    "print('mape SR_raw', mape_SR_raw )\n",
    "print('mape SR_0D', mape_SR_0D )"
   ]
  },
  {
   "cell_type": "code",
   "execution_count": 20,
   "metadata": {},
   "outputs": [
    {
     "data": {
      "image/png": "[encoded data removed]",
      "text/plain": [
       "<Figure size 720x360 with 2 Axes>"
      ]
     },
     "metadata": {
      "needs_background": "light"
     },
     "output_type": "display_data"
    }
   ],
   "source": [
    "fig,[ax1, ax2]=plt.subplots(nrows=1,ncols=2, sharey=True, figsize=(10,5))\n",
    "# fig.suptitle(r'TNG-SIM Galaxies, all morph: SR eqn Predicted vs True $R_{star}$ ', fontsize=16, fontweight='bold')\n",
    "plt.subplots_adjust(hspace=0.0,wspace=0.0)\n",
    "\n",
    "# label = (r'$R^{2}$={}' + '\\n' + r'$MAPE_{Rstar}$={}$\\%$'.format(r2_RF_dm, mape_RF_dm))\n",
    "# label = r'$R^{2}_{R_{star}}$=0.66'+'\\n'+r'$MAPE_{R_{star}}$=29$\\%$'\n",
    "# im1 = ax1.scatter(10**(df_raw_log.SubhaloRstar_log), 10**(y_pred_RF_dm), \n",
    "#                     s=3, marker='.', alpha=0.7, label=label) # , vmin=-2, vmax=1.0)\n",
    "\n",
    "im1 = sns.kdeplot(data= df_pred_true, x='y_true', y = 'y_pred_SR_raw', alpha=0.3, gridsize=200, bw_adjust=0.5,\n",
    "            levels = [0.1,0.25,0.5,1.0], ax = ax1, fill=True, cmap='brg') #,\n",
    "#                  legend = r'$R^{2}_{R_{star}}$=0.85'+'\\n'+r'$MAPE_{R_{star}}$=12$\\%$')\n",
    "# ax1.set_xlim([8.0, 11.5])\n",
    "ax1.set_xticks([0.0, 2.5, 5.0, 7.5]) #, 10.0 ]) #, 12.5, 15.0, 17.5])\n",
    "# ax1.set_ylim([-0.5,2.0])\n",
    "ax1.axis([0.0,10.0, 0.0,10.0])\n",
    "ax1.set_title(r'$R_{star}$ = $c * \\frac{ \\sqrt{M_{star}}}{Z_{star}}$', fontsize=16)\n",
    "ax1.set_xlabel(r'True $R_{star}$ [kpc]', fontsize=15)\n",
    "ax1.set_ylabel(r'Predicted $R_{star}$ [kpc]', fontsize=15)\n",
    "ax1.annotate(r'$c=7.82*10^{-7}$' + '\\n' +r'$R^{2}_{R_{star}}$=0.8'+'\\n'+r'$MAPE_{R_{star}}$=22$\\%$', (0.1,0.75), xycoords='axes fraction', size=14)\n",
    "# ax1.legend(loc='upper left', shadow=True)\n",
    "ax1.plot([0, 30], [0, 30],linestyle='dotted')\n",
    "\n",
    "# label = r'$R^{2}_{R_{star}}$=0.67'+'\\n'+r'$MAPE_{R_{star}}$=29$\\%$'\n",
    "# im2 = ax2.scatter(10**(df_raw_log.SubhaloRstar_log), 10**(y_pred_SVR_dm), \n",
    "#                      s=3, marker='.', alpha=0.7,label= label) #, vmin=-2, vmax=1.0)\n",
    "im1 = sns.kdeplot(data= df_pred_true, x='y_true', y = 'y_pred_SR_0D', alpha=0.3, gridsize=200, bw_adjust=0.5,\n",
    "            levels = [0.1,0.25,0.5,1.0], ax = ax2, fill=True, cmap='brg') #,\n",
    "#                  label = label, legend=True)\n",
    "# ax2.set_xlim([0.0,0.15])\n",
    "# ax2.set_xticks([ 0.0, 0.05, 0.1, 0.15, 0.2, 0.25, 0.3])\n",
    "# ax2.set_ylim([-3.0, 1.1])\n",
    "ax2.axis([0.0,10.0, 0.0,10.0])\n",
    "ax2.set_title(r'$R_{star}=c*[\\frac{M_{star}}{Z_{star}^{2}}*\\frac{1}{M_{vir}^{0.72}}]*R_{vir}$', fontsize=16)\n",
    "ax2.set_xlabel(r'True $R_{star}$ [kpc]', fontsize=15)\n",
    "ax2.annotate(r'$c=1.85*10^{-7}$' + '\\n' + r'$R^{2}_{R_{star}}$=0.78'+'\\n'+r'$MAPE_{R_{star}}$=19$\\%$', (0.1,0.75), xycoords='axes fraction', size=14)\n",
    "# ax2.set_ylabel(r'Predicted $R_{star}$ [kpc]')\n",
    "# ax2.legend(loc='upper left' , shadow=True)\n",
    "ax2.plot([0, 30], [0, 30],linestyle='dotted')\n",
    "\n",
    "# fig.subplots_adjust(right=0.8)\n",
    "# cbar_ax = fig.add_axes([0.85, 0.15, 0.01, 0.7])\n",
    "# fig.colorbar(im2, cax=cbar_ax)\n",
    "\n",
    "# plt.savefig(\"TNG-SIM_images/v29_fig_SReqn_allmorph_disks/v29_allmorph_TNG-SIM_SReqn_pred_true_KDEnotitle.pdf\", dpi=500)\n",
    "plt.show()"
   ]
  },
  {
   "cell_type": "markdown",
   "metadata": {},
   "source": [
    "## <font color='purple'> <a id =10> </a> <br> Disks Dataset w all features "
   ]
  },
  {
   "cell_type": "code",
   "execution_count": 23,
   "metadata": {},
   "outputs": [],
   "source": [
    "df_disks_original = pd.read_csv('TNG-SIM_images/v24a_Disks_SVR_0DwMvir/v24a_TNG-SIM_Disks_Dataset_Raw.csv')\n",
    "df_disks_log = pd.read_csv('TNG-SIM_images/v24a_Disks_SVR_0DwMvir/v24a_TNG-SIM_Disks_Dataset_LogRaw.csv')\n",
    "df_disks_0D = pd.read_csv('TNG-SIM_images/v24a_Disks_SVR_0DwMvir/v24a_TNG-SIM_Disks_0D_wMvir_Dataset.csv')\n",
    "df_disks_0D_log = pd.read_csv('TNG-SIM_images/v24a_Disks_SVR_0DwMvir/v24a_TNG-SIM_Disks_Log0D_wMvir_Dataset.csv')\n"
   ]
  },
  {
   "cell_type": "markdown",
   "metadata": {},
   "source": [
    "### <font color='purple'> <a id =10> </a> <br> Disks Raw Dataset w all features"
   ]
  },
  {
   "cell_type": "code",
   "execution_count": 31,
   "metadata": {},
   "outputs": [
    {
     "name": "stdout",
     "output_type": "stream",
     "text": [
      "(3215,)\n",
      "(3215,)\n",
      "(3215,)\n"
     ]
    }
   ],
   "source": [
    "# SR predicted 'best' equation for Rstar on Disks, using n_iter=10K\n",
    "y_pred_SR_raw_disks = (1.84e-11)*(df_disks_original.SubhaloMstar**(0.783))/df_disks_original.SubhaloStarMetallicity**2\n",
    "# SR_raw is simply Rstar = a * (1/Zstar) * Mstar^0.783 / Zstar^2\n",
    "\n",
    "# SR predicted 'best' equation for Rstar/Rvir on Disks, using n_iter=10K\n",
    "y_pred_SR_0D_disks = 4.77e-8*((df_disks_original.SubhaloMstar/df_disks_0D.SubhaloStarMetallicity**2) *(1/df_disks_0D.Group_M_TopHat200**0.67))*df_disks_original.Group_R_TopHat200\n",
    "\n",
    "# SR_0D eqn is simply Rstar = (4.77e-8)*(Mstar/Zstar**2)*(1/Mvir**0.67)*Rvir\n",
    "\n",
    "# SR raw and SR 0D predicted Rstar, and true Rstar\n",
    "\n",
    "\n",
    "y_true_disks = df_disks_original.loc[:, 'SubhaloRstar']\n",
    "print(y_pred_SR_raw_disks.shape)\n",
    "print(y_true_disks.shape)\n",
    "\n",
    "print(y_pred_SR_0D_disks.shape)\n",
    "\n",
    "# Make a df with pred_true values to use w seaborn\n",
    "\n",
    "df_pred_true = pd.DataFrame({'y_pred_SR_raw_disks' : y_pred_SR_raw_disks, \n",
    "                             'y_pred_SR_0D_disks': y_pred_SR_0D_disks,\n",
    "                             'y_true_disks' : df_disks_original.loc[:, 'SubhaloRstar']})"
   ]
  },
  {
   "cell_type": "code",
   "execution_count": 32,
   "metadata": {},
   "outputs": [
    {
     "name": "stdout",
     "output_type": "stream",
     "text": [
      "r2 SR_raw_disks  0.82\n",
      "r2 SR_0D_disks  0.81\n",
      "mape SR_raw_disks 0.18822053669470357\n",
      "mape SR_0D_disks 0.19676979090005908\n"
     ]
    }
   ],
   "source": [
    "r2_SR_raw_disks = np.round(r2_score(y_true_disks, y_pred_SR_raw_disks), 2)\n",
    "print('r2 SR_raw_disks ', r2_SR_raw_disks)\n",
    "r2_SR_0D_disks = np.round(r2_score(y_true_disks, y_pred_SR_0D_disks), 2)\n",
    "print('r2 SR_0D_disks ', r2_SR_0D_disks)\n",
    "mape_SR_raw_disks = mean_absolute_percentage_error(y_true_disks, y_pred_SR_raw_disks)\n",
    "mape_SR_0D_disks = mean_absolute_percentage_error(y_true_disks, y_pred_SR_0D_disks)\n",
    "print('mape SR_raw_disks', mape_SR_raw_disks )\n",
    "print('mape SR_0D_disks', mape_SR_0D_disks )"
   ]
  },
  {
   "cell_type": "code",
   "execution_count": 35,
   "metadata": {},
   "outputs": [
    {
     "data": {
      "image/png": "[encoded data removed]",
      "text/plain": [
       "<Figure size 720x360 with 2 Axes>"
      ]
     },
     "metadata": {
      "needs_background": "light"
     },
     "output_type": "display_data"
    }
   ],
   "source": [
    "fig,[ax1, ax2]=plt.subplots(nrows=1,ncols=2, sharey=True, figsize=(10,5))\n",
    "# fig.suptitle(r'TNG-SIM Galaxies, all morph: SR eqn Predicted vs True $R_{star}$ ', fontsize=16, fontweight='bold')\n",
    "plt.subplots_adjust(hspace=0.0,wspace=0.0)\n",
    "\n",
    "# label = (r'$R^{2}$={}' + '\\n' + r'$MAPE_{Rstar}$={}$\\%$'.format(r2_RF_dm, mape_RF_dm))\n",
    "# label = r'$R^{2}_{R_{star}}$=0.66'+'\\n'+r'$MAPE_{R_{star}}$=29$\\%$'\n",
    "# im1 = ax1.scatter(10**(df_raw_log.SubhaloRstar_log), 10**(y_pred_RF_dm), \n",
    "#                     s=3, marker='.', alpha=0.7, label=label) # , vmin=-2, vmax=1.0)\n",
    "\n",
    "im1 = sns.kdeplot(data= df_pred_true, x='y_true_disks', y = 'y_pred_SR_raw_disks', alpha=0.3, gridsize=200, bw_adjust=0.5,\n",
    "            levels = [0.1,0.25,0.5,1.0], ax = ax1, fill=True, cmap='brg') #,\n",
    "#                  legend = r'$R^{2}_{R_{star}}$=0.85'+'\\n'+r'$MAPE_{R_{star}}$=12$\\%$')\n",
    "# ax1.set_xlim([8.0, 11.5])\n",
    "ax1.set_xticks([0.0, 2.5, 5.0, 7.5]) #, 10.0 ]) #, 12.5, 15.0, 17.5])\n",
    "# ax1.set_ylim([-0.5,2.0])\n",
    "ax1.axis([0.0,10.0, 0.0,10.0])\n",
    "ax1.set_title(r'$R_{star}$ = $c * \\frac{ M_{star}^{0.783}}{Z_{star}^{2}}$', fontsize=16)\n",
    "ax1.set_xlabel(r'True $R_{star}$ [kpc]', fontsize=15)\n",
    "ax1.set_ylabel(r'Predicted $R_{star}$ [kpc]', fontsize=15)\n",
    "ax1.annotate(r'$c=1.84*10^{-11}$' + '\\n' +r'$R^{2}_{R_{star}}$=0.82'+'\\n'+r'$MAPE_{R_{star}}$=19$\\%$', (0.1,0.75), xycoords='axes fraction', size=14)\n",
    "# ax1.legend(loc='upper left', shadow=True)\n",
    "ax1.plot([0, 30], [0, 30],linestyle='dotted')\n",
    "\n",
    "# label = r'$R^{2}_{R_{star}}$=0.67'+'\\n'+r'$MAPE_{R_{star}}$=29$\\%$'\n",
    "# im2 = ax2.scatter(10**(df_raw_log.SubhaloRstar_log), 10**(y_pred_SVR_dm), \n",
    "#                      s=3, marker='.', alpha=0.7,label= label) #, vmin=-2, vmax=1.0)\n",
    "im1 = sns.kdeplot(data= df_pred_true, x='y_true_disks', y = 'y_pred_SR_0D_disks', alpha=0.3, gridsize=200, bw_adjust=0.5,\n",
    "            levels = [0.1,0.25,0.5,1.0], ax = ax2, fill=True, cmap='brg') #,\n",
    "#                  label = label, legend=True)\n",
    "# ax2.set_xlim([0.0,0.15])\n",
    "# ax2.set_xticks([ 0.0, 0.05, 0.1, 0.15, 0.2, 0.25, 0.3])\n",
    "# ax2.set_ylim([-3.0, 1.1])\n",
    "ax2.axis([0.0,10.0, 0.0,10.0])\n",
    "ax2.set_title(r'$R_{star}=c*[\\frac{M_{star}}{Z_{star}^{2}}*\\frac{1}{M_{vir}^{0.67}}]*R_{vir}$', fontsize=16)\n",
    "ax2.set_xlabel(r'True $R_{star}$ [kpc]', fontsize=15)\n",
    "ax2.annotate(r'$c=4.77*10^{-8}$' + '\\n' + r'$R^{2}_{R_{star}}$=0.81'+'\\n'+r'$MAPE_{R_{star}}$=20$\\%$', (0.1,0.75), xycoords='axes fraction', size=14)\n",
    "# ax2.set_ylabel(r'Predicted $R_{star}$ [kpc]')\n",
    "# ax2.legend(loc='upper left' , shadow=True)\n",
    "ax2.plot([0, 30], [0, 30],linestyle='dotted')\n",
    "\n",
    "# fig.subplots_adjust(right=0.8)\n",
    "# cbar_ax = fig.add_axes([0.85, 0.15, 0.01, 0.7])\n",
    "# fig.colorbar(im2, cax=cbar_ax)\n",
    "\n",
    "# plt.savefig(\"TNG-SIM_images/v29_fig_SReqn_allmorph_disks/v29_disks_TNG-SIM_SReqn_pred_true_KDEnotitle.pdf\", dpi=500)\n",
    "plt.show()"
   ]
  },
  {
   "cell_type": "code",
   "execution_count": null,
   "metadata": {},
   "outputs": [],
   "source": []
  }
 ],
 "metadata": {
  "kernelspec": {
   "display_name": "native",
   "language": "python",
   "name": "native"
  },
  "language_info": {
   "codemirror_mode": {
    "name": "ipython",
    "version": 3
   },
   "file_extension": ".py",
   "mimetype": "text/x-python",
   "name": "python",
   "nbconvert_exporter": "python",
   "pygments_lexer": "ipython3",
   "version": "3.9.7"
  }
 },
 "nbformat": 4,
 "nbformat_minor": 4
}
