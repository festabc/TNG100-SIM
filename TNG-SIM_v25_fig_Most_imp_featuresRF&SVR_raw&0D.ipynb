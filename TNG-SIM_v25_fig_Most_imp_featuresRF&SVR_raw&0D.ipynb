{
 "cells": [
  {
   "cell_type": "code",
   "execution_count": 1,
   "metadata": {},
   "outputs": [],
   "source": [
    "import time\n",
    "import numpy as np\n",
    "import pandas as pd\n",
    "\n",
    "import galsim #install with conda install -c conda_forge galsim\n",
    "\n",
    "import matplotlib.pyplot as plt\n",
    "from matplotlib import pyplot\n",
    "import matplotlib.cm as cm\n",
    "import matplotlib.colors as norm\n",
    "from matplotlib.gridspec import SubplotSpec\n",
    "import seaborn as sns\n",
    "\n",
    "from scipy import stats\n",
    "from sklearn.linear_model import LinearRegression\n",
    "from sklearn.ensemble import RandomForestRegressor\n",
    "from sklearn import svm\n",
    "from sklearn.svm import SVR\n",
    "\n",
    "from sklearn.model_selection import train_test_split\n",
    "from sklearn.model_selection import RandomizedSearchCV, GridSearchCV\n",
    "from sklearn.model_selection import cross_validate, KFold, StratifiedKFold\n",
    "from sklearn.model_selection import cross_val_predict\n",
    "from sklearn.model_selection import cross_val_score\n",
    "from sklearn.metrics import r2_score\n",
    "from sklearn.inspection import permutation_importance\n",
    "from sklearn.pipeline import make_pipeline #This allows one to build different steps together\n",
    "from sklearn.preprocessing import StandardScaler, RobustScaler\n",
    "\n",
    "from tqdm import tqdm \n",
    "\n",
    "import target_predicting_RF_function_and_feature_ranking_TNGSIM as functions\n",
    "import RF_target_predicting_and_learning_curves_functions_TNGSIM as tp_lc_functions"
   ]
  },
  {
   "cell_type": "raw",
   "metadata": {},
   "source": [
    "import os \n",
    "os.mkdir('TNG-SIM_images/v25_Addon_FeatureImportances_RF_SVR')"
   ]
  },
  {
   "cell_type": "raw",
   "metadata": {},
   "source": [
    "def translate_log_names(namelist,return_dictionary=False):\n",
    "    '''translate log feature names to log paper names'''\n",
    "    feature_dict={'GroupSpin_dmo_log':'$log_{10}\\lambda$', # spin\n",
    "        # metallicities, SFR, Nsubs\n",
    "        'SubhaloGasMetallicity_log':'$log_{10}Z_{gas}$',\n",
    "        'SubhaloStarMetallicity_log':'$log_{10}Z_{star}$',\n",
    "        'SubhaloSFRinRad_log':'$log_{10}SFR$', 'GroupNsubs_log' : '$log_{10}N_{subs}$',\n",
    "         # Galaxy Masses         \n",
    "        'SubhaloBHMass_log':'$log_{10}M_{BH}$', 'SubhaloBHMass_hs_log':'$log_{10}(M_{BH} / M_{vir})$',\n",
    "        'SubhaloBHMdot_log':'$log_{10}\\dot{M}_{BH}$','SubhaloBHMdot_hs_log':'$log_{10}(\\dot{M}_{BH} / M_{vir})$', \n",
    "        'SubhaloMstar_log':'$log_{10}M_{star}$', 'SubhaloMstar_hs_log':'log_{10}($M_{star} / M_{vir})$',\n",
    "        'SubhaloMgas_log':'$log_{10}M_{gas}$','SubhaloMgas_hs_log':'$log_{10}(M_{gas} / M_{vir})$',\n",
    "        'SubhaloMHI_log':'$log_{10}M_{HI}$','SubhaloMHI_hs_log':'$log_{10}(M_{HI} / M_{vir})$',\n",
    "        'SubhaloMH2_log':'$log_{10}M_{H2}$','SubhaloMH2_hs_log':'$log_{10}(M_{H2} / M_{vir})$',\n",
    "         # Velocities         \n",
    "        'SubhaloVelDisp_log':'$log_{10}\\sigma_V$','SubhaloVelDisp_hs_log':'$log_{10}(\\sigma_V/V_{vir})$',\n",
    "        'SubhaloVmax_log':'$log_{10}V_{max}$', 'SubhaloVmax_hs_log':'$log_{10}(V_{max} / V_{vir})$',\n",
    "\n",
    "        # Halo variables\n",
    "        'Group_M_TopHat200_log':'$log_{10}M_{vir}$','Group_V_TopHat200_log':'$log_{10}V_{vir}$',\n",
    "        'Group_R_TopHat200_log':'$log_{10}R_{vir}$',\n",
    "                  # Galaxy Sizes\n",
    "                  'SubhaloRgas_log':'$log_{10}R_{gas}$', 'SubhaloRgas_hs_log':'$log_{10}(R_{gas} / R_{vir})$',\n",
    "                  'SubhaloVmaxRad_log':'$log_{10}R_{Vmax}$', 'SubhaloVmaxRad_hs_log':'$log_{10}(R_{Vmax} / R_{vir})$',\n",
    "                  'SubhaloRstar_log': '$log_{10}R_{star}$', 'SubhaloRstar_hs_log':'$log_{10}(R_{star} / R_{vir})$'}\n",
    "    if return_dictionary:\n",
    "        return feature_dict\n",
    "#     elif isinstance(namelist,str):\n",
    "#         print('dysh')\n",
    "\n",
    "#         return feature_dict(namelist)\n",
    "#     else:\n",
    "#         print('tresh')\n",
    "\n",
    "#         return [feature_dict[f] for f in namelist]"
   ]
  },
  {
   "cell_type": "code",
   "execution_count": 2,
   "metadata": {},
   "outputs": [],
   "source": [
    "def translate_logfeatures_to_nonlognames(namelist,return_dictionary=False):\n",
    "    '''translate log feature names to non-log paper names'''\n",
    "    feature_dict={'GroupSpin_dmo_log':'$\\lambda$', # spin\n",
    "        # metallicities, SFR, Nsubs\n",
    "        'SubhaloGasMetallicity_log':'$Z_{gas}$',\n",
    "        'SubhaloStarMetallicity_log':'$Z_{star}$',\n",
    "        'SubhaloSFRinRad_log':'SFR', 'GroupNsubs_log' : '$N_{subs}$',\n",
    "         # Galaxy Masses         \n",
    "        'SubhaloBHMass_log':'$M_{BH}$', 'SubhaloBHMass_hs_log':'$M_{BH} / M_{vir}$',\n",
    "        'SubhaloBHMdot_log':'$\\dot{M}_{BH}$','SubhaloBHMdot_hs_log':'$\\dot{M}_{BH} / M_{vir}$', \n",
    "        'SubhaloMstar_log':'$M_{star}$', 'SubhaloMstar_hs_log':'$M_{star} / M_{vir}$',\n",
    "        'SubhaloMgas_log':'$M_{gas}$','SubhaloMgas_hs_log':'$M_{gas} / M_{vir}$',\n",
    "        'SubhaloMHI_log':'$M_{HI}$','SubhaloMHI_hs_log':'$M_{HI} / M_{vir}$',\n",
    "        'SubhaloMH2_log':'$M_{H2}$','SubhaloMH2_hs_log':'$M_{H2} / M_{vir}$',\n",
    "         # Velocities         \n",
    "        'SubhaloVelDisp_log':'$\\sigma_V$','SubhaloVelDisp_hs_log':'$\\sigma_V/V_{vir}$',\n",
    "        'SubhaloVmax_log':'$V_{max}$', 'SubhaloVmax_hs_log':'$V_{max} / V_{vir}$',\n",
    "\n",
    "        # Halo variables\n",
    "        'Group_M_TopHat200_log':'$M_{vir}$','Group_V_TopHat200_log':'$V_{vir}$',\n",
    "        'Group_R_TopHat200_log':'$R_{vir}$',\n",
    "                  # Galaxy Sizes\n",
    "                  'SubhaloRgas_log':'$R_{gas}$', 'SubhaloRgas_hs_log':'$R_{gas} / R_{vir}$',\n",
    "                  'SubhaloVmaxRad_log':'$R_{Vmax}$', 'SubhaloVmaxRad_hs_log':'$R_{Vmax} / R_{vir}$',\n",
    "                  'SubhaloRstar_log': '$R_{star}$', 'SubhaloRstar_hs_log':'$R_{star} / R_{vir}$'}\n",
    "    if return_dictionary:\n",
    "        return feature_dict\n",
    "    elif isinstance(namelist,str):\n",
    "        print('dysh')\n",
    "\n",
    "        return feature_dict(namelist)\n",
    "    else:\n",
    "        print('tresh')\n",
    "\n",
    "        return [feature_dict[f] for f in namelist]"
   ]
  },
  {
   "cell_type": "code",
   "execution_count": 3,
   "metadata": {},
   "outputs": [],
   "source": [
    "df_RF = pd.read_csv('TNG-SIM_images/v21_Disks_RF_FeatRank_Raw/v21_Disks_TNG_Raw_Max_r_scores_by_add_column_method.csv')\n",
    "df_SVR = pd.read_csv('TNG-SIM_images/v22_Disks_SVR/v22_Disks_TNG-SIM_Raw_SVR_Max r scores by add column method.csv')\n",
    "df_RF_hs = pd.read_csv('TNG-SIM_images/v23a_Disks_RF_FeatRank_0DwMvir/v23a_Disks_TNG_0DwMvir_Max_r_scores_by_add_column_method.csv')\n",
    "df_SVR_hs = pd.read_csv('TNG-SIM_images/v24a_Disks_SVR_0DwMvir/v24a_Disks_Disks_TNG-SIM_0DwMvir_SVR_Max r scores by add column method.csv')\n",
    "    "
   ]
  },
  {
   "cell_type": "code",
   "execution_count": 4,
   "metadata": {},
   "outputs": [
    {
     "data": {
      "text/html": [
       "<div>\n",
       "<style scoped>\n",
       "    .dataframe tbody tr th:only-of-type {\n",
       "        vertical-align: middle;\n",
       "    }\n",
       "\n",
       "    .dataframe tbody tr th {\n",
       "        vertical-align: top;\n",
       "    }\n",
       "\n",
       "    .dataframe thead th {\n",
       "        text-align: right;\n",
       "    }\n",
       "</style>\n",
       "<table border=\"1\" class=\"dataframe\">\n",
       "  <thead>\n",
       "    <tr style=\"text-align: right;\">\n",
       "      <th></th>\n",
       "      <th>feature_number</th>\n",
       "      <th>features</th>\n",
       "      <th>r_sq_score</th>\n",
       "    </tr>\n",
       "  </thead>\n",
       "  <tbody>\n",
       "    <tr>\n",
       "      <th>0</th>\n",
       "      <td>1</td>\n",
       "      <td>SubhaloMH2_log</td>\n",
       "      <td>0.446484</td>\n",
       "    </tr>\n",
       "    <tr>\n",
       "      <th>1</th>\n",
       "      <td>2</td>\n",
       "      <td>SubhaloStarMetallicity_log</td>\n",
       "      <td>0.709776</td>\n",
       "    </tr>\n",
       "    <tr>\n",
       "      <th>2</th>\n",
       "      <td>3</td>\n",
       "      <td>SubhaloMstar_log</td>\n",
       "      <td>0.811974</td>\n",
       "    </tr>\n",
       "    <tr>\n",
       "      <th>3</th>\n",
       "      <td>4</td>\n",
       "      <td>SubhaloVmaxRad_log</td>\n",
       "      <td>0.822093</td>\n",
       "    </tr>\n",
       "    <tr>\n",
       "      <th>4</th>\n",
       "      <td>5</td>\n",
       "      <td>SubhaloGasMetallicity_log</td>\n",
       "      <td>0.838548</td>\n",
       "    </tr>\n",
       "    <tr>\n",
       "      <th>5</th>\n",
       "      <td>6</td>\n",
       "      <td>SubhaloSFRinRad_log</td>\n",
       "      <td>0.849192</td>\n",
       "    </tr>\n",
       "    <tr>\n",
       "      <th>6</th>\n",
       "      <td>7</td>\n",
       "      <td>SubhaloVelDisp_log</td>\n",
       "      <td>0.848177</td>\n",
       "    </tr>\n",
       "    <tr>\n",
       "      <th>7</th>\n",
       "      <td>8</td>\n",
       "      <td>SubhaloBHMass_log</td>\n",
       "      <td>0.848448</td>\n",
       "    </tr>\n",
       "    <tr>\n",
       "      <th>8</th>\n",
       "      <td>9</td>\n",
       "      <td>GroupSpin_dmo_log</td>\n",
       "      <td>0.853403</td>\n",
       "    </tr>\n",
       "    <tr>\n",
       "      <th>9</th>\n",
       "      <td>10</td>\n",
       "      <td>SubhaloVmax_log</td>\n",
       "      <td>0.852367</td>\n",
       "    </tr>\n",
       "  </tbody>\n",
       "</table>\n",
       "</div>"
      ],
      "text/plain": [
       "   feature_number                    features  r_sq_score\n",
       "0               1              SubhaloMH2_log    0.446484\n",
       "1               2  SubhaloStarMetallicity_log    0.709776\n",
       "2               3            SubhaloMstar_log    0.811974\n",
       "3               4          SubhaloVmaxRad_log    0.822093\n",
       "4               5   SubhaloGasMetallicity_log    0.838548\n",
       "5               6         SubhaloSFRinRad_log    0.849192\n",
       "6               7          SubhaloVelDisp_log    0.848177\n",
       "7               8           SubhaloBHMass_log    0.848448\n",
       "8               9           GroupSpin_dmo_log    0.853403\n",
       "9              10             SubhaloVmax_log    0.852367"
      ]
     },
     "execution_count": 4,
     "metadata": {},
     "output_type": "execute_result"
    }
   ],
   "source": [
    "df_RF"
   ]
  },
  {
   "cell_type": "markdown",
   "metadata": {},
   "source": [
    "## Disks Raw ranking"
   ]
  },
  {
   "cell_type": "code",
   "execution_count": 5,
   "metadata": {},
   "outputs": [
    {
     "name": "stdout",
     "output_type": "stream",
     "text": [
      "tresh\n",
      "tresh\n"
     ]
    }
   ],
   "source": [
    "number_features = 5\n",
    "list_features = []\n",
    "\n",
    "fdict_RF = translate_logfeatures_to_nonlognames(df_RF.features,return_dictionary=False)\n",
    "fdict_SVR = translate_logfeatures_to_nonlognames(df_SVR.features,return_dictionary=False)\n",
    "\n",
    "df_RF.features = df_RF.features.map(dict(zip(df_RF.features, fdict_RF)))\n",
    "df_SVR.features = df_SVR.features.map(dict(zip(df_SVR.features, fdict_SVR)))\n",
    "\n",
    "datasets = [df_RF, df_SVR] \n",
    "\n",
    "# datasets_names = [str(l) for l in range(1,10)]\n",
    "datasets_names = ['RF', 'SVR']\n",
    "\n",
    "all_top_n_feats = []\n",
    "\n",
    "for i, _dataset in enumerate(datasets):\n",
    "    all_top_n_feats.extend(list(_dataset.loc[:number_features-1,'features'].values))\n",
    "    all_top_n_feats = list(set(all_top_n_feats))\n",
    "    "
   ]
  },
  {
   "cell_type": "code",
   "execution_count": 9,
   "metadata": {},
   "outputs": [
    {
     "data": {
      "image/png": "[encoded data removed]",
      "text/plain": [
       "<Figure size 1440x432 with 1 Axes>"
      ]
     },
     "metadata": {
      "needs_background": "light"
     },
     "output_type": "display_data"
    }
   ],
   "source": [
    "# Plot the feature importances from RF and SVR models for the raw dataset\n",
    "\n",
    "plt.figure(figsize=(20,6))\n",
    "\n",
    "# plt.title(\"TNG-SIM Disks Add-on Feature Importances \\n from Random Forests and Support Vector Regressor\")\n",
    "\n",
    "for i, _dataset in enumerate(datasets):\n",
    "    dataset = _dataset.copy()\n",
    "    \n",
    "    dataset.loc[1:,'r_sq_score'] = dataset.loc[:,'r_sq_score'].diff()[1:]\n",
    "\n",
    "    importances = dataset.loc[:number_features -1, 'r_sq_score']\n",
    "    importances.index = dataset.loc[:number_features-1,'features']\n",
    "    \n",
    "    \n",
    "    for l in [l for l in all_top_n_feats if l not in importances.index]:\n",
    "        importances[l] = 0\n",
    "        \n",
    "    importances.sort_index(inplace=True)\n",
    "#     color_list = cm.Spectral_r(30*i+20)\n",
    "#     color_list = cm.Spectral_r(60*i+200)\n",
    "    color_list = cm.Spectral_r(200*i)\n",
    "\n",
    "#     print(color_list)\n",
    "    plt.bar(np.arange(len(importances))+0.05*(-i), importances, \n",
    "        align=\"center\", width=0.2, alpha = 0.5, label = datasets_names[i], \n",
    "        color = color_list)\n",
    "    \n",
    "    plt.xticks(range(len(list(importances.index))), labels = list(importances.index), rotation=90)\n",
    "    plt.rc('xtick', labelsize=15) \n",
    "    plt.rc('ytick', labelsize=15)\n",
    "    # Pad margins so that markers don't get clipped by the axes\n",
    "    plt.margins(0.2)\n",
    "    plt.ylabel(r'Incremental $R^{2}$ score by feature', size=15)\n",
    "    plt.legend(loc='upper right', fontsize=15)\n",
    "    # Tweak spacing to prevent clipping of tick-labels\n",
    "    plt.subplots_adjust(bottom=0.2)\n",
    "    \n",
    "# plt.savefig('TNG-SIM_images/v25_Addon_FeatureImportances_RF_SVR/Disks_FeatImp_Raw_RF_SVR_papernames_notitile.pdf', dpi=500)\n",
    "    "
   ]
  },
  {
   "cell_type": "markdown",
   "metadata": {},
   "source": [
    "### Disks 0D ranking"
   ]
  },
  {
   "cell_type": "code",
   "execution_count": 10,
   "metadata": {},
   "outputs": [
    {
     "name": "stdout",
     "output_type": "stream",
     "text": [
      "tresh\n",
      "tresh\n"
     ]
    }
   ],
   "source": [
    "number_features = 5\n",
    "list_features = []\n",
    "\n",
    "fdict_RF_hs = translate_logfeatures_to_nonlognames(df_RF_hs.features,return_dictionary=False)\n",
    "fdict_SVR_hs = translate_logfeatures_to_nonlognames(df_SVR_hs.features,return_dictionary=False)\n",
    "\n",
    "df_RF_hs.features = df_RF_hs.features.map(dict(zip(df_RF_hs.features, fdict_RF_hs)))\n",
    "df_SVR_hs.features = df_SVR_hs.features.map(dict(zip(df_SVR_hs.features, fdict_SVR_hs)))\n",
    "\n",
    "datasets = [df_RF_hs, df_SVR_hs] \n",
    "\n",
    "# datasets_names = [str(l) for l in range(1,10)]\n",
    "datasets_names = ['RF', 'SVR']\n",
    "\n",
    "\n",
    "all_top_n_feats = []\n",
    "\n",
    "for i, _dataset in enumerate(datasets):\n",
    "    all_top_n_feats.extend(list(_dataset.loc[:number_features-1,'features'].values))\n",
    "    all_top_n_feats = list(set(all_top_n_feats))"
   ]
  },
  {
   "cell_type": "code",
   "execution_count": 13,
   "metadata": {},
   "outputs": [
    {
     "data": {
      "image/png": "[encoded data removed]",
      "text/plain": [
       "<Figure size 1440x432 with 1 Axes>"
      ]
     },
     "metadata": {
      "needs_background": "light"
     },
     "output_type": "display_data"
    }
   ],
   "source": [
    "# Plot the feature importances from RF and SVR models for the 0D dataset\n",
    "\n",
    "plt.figure(figsize=(20,6))\n",
    "\n",
    "# plt.title(\"TNG-SIM Disks Add-on Feature Importances from halo-scaled+Mvir dataset \\n from Random Forests and Support Vector Regressor\")\n",
    "\n",
    "for i, _dataset in enumerate(datasets):\n",
    "    dataset = _dataset.copy()\n",
    "    \n",
    "    dataset.loc[1:,'r_sq_score'] = dataset.loc[:,'r_sq_score'].diff()[1:]\n",
    "\n",
    "    importances = dataset.loc[:number_features -1, 'r_sq_score']\n",
    "    importances.index = dataset.loc[:number_features-1,'features']\n",
    "    \n",
    "    \n",
    "    for l in [l for l in all_top_n_feats if l not in importances.index]:\n",
    "        importances[l] = 0\n",
    "        \n",
    "    importances.sort_index(inplace=True)\n",
    "#     color_list = cm.Spectral_r(30*i+20)\n",
    "#     color_list = cm.Spectral_r(60*i+200)\n",
    "    color_list = cm.Spectral_r(200*i)\n",
    "\n",
    "#     print(color_list)\n",
    "    plt.bar(np.arange(len(importances))+0.05*(-i), importances, \n",
    "        align=\"center\", width=0.2, alpha = 0.5, label = datasets_names[i], \n",
    "        color = color_list)\n",
    "    \n",
    "    plt.xticks(range(len(list(importances.index))), labels = list(importances.index), rotation=90)\n",
    "    plt.rc('xtick', labelsize=15) \n",
    "    plt.rc('ytick', labelsize=15)\n",
    "    # Pad margins so that markers don't get clipped by the axes\n",
    "    plt.margins(0.2)\n",
    "    plt.ylabel(r'Incremental $R^{2}$ score by feature', size=15)\n",
    "\n",
    "    plt.legend(loc='upper right', fontsize=15)\n",
    "    # Tweak spacing to prevent clipping of tick-labels\n",
    "    plt.subplots_adjust(bottom=0.2)\n",
    "    \n",
    "# plt.savefig('TNG-SIM_images/v25_Addon_FeatureImportances_RF_SVR/Disks_FeatImp_0DMvir_RF_SVR_papernames_notitle.pdf', dpi=500)\n",
    "    "
   ]
  },
  {
   "cell_type": "markdown",
   "metadata": {},
   "source": [
    "# All dataset Ranking"
   ]
  },
  {
   "cell_type": "markdown",
   "metadata": {},
   "source": [
    "## All dataset Raw"
   ]
  },
  {
   "cell_type": "code",
   "execution_count": 14,
   "metadata": {},
   "outputs": [],
   "source": [
    "df_RF = pd.read_csv('TNG-SIM_images/v15_RF_FeatRank_Raw/v15_TNG_Raw_AllDataset_Max_r_scores_by_add_column_method.csv')\n",
    "df_SVR = pd.read_csv('TNG-SIM_images/v16_SVR/v16_TNG-SIM_Raw_AllDataset_SVR_Max r scores by add column method.csv')\n"
   ]
  },
  {
   "cell_type": "code",
   "execution_count": 15,
   "metadata": {},
   "outputs": [
    {
     "name": "stdout",
     "output_type": "stream",
     "text": [
      "tresh\n",
      "tresh\n"
     ]
    }
   ],
   "source": [
    "number_features = 5\n",
    "list_features = []\n",
    "\n",
    "fdict_RF = translate_logfeatures_to_nonlognames(df_RF.features,return_dictionary=False)\n",
    "fdict_SVR = translate_logfeatures_to_nonlognames(df_SVR.features,return_dictionary=False)\n",
    "\n",
    "df_RF.features = df_RF.features.map(dict(zip(df_RF.features, fdict_RF)))\n",
    "df_SVR.features = df_SVR.features.map(dict(zip(df_SVR.features, fdict_SVR)))\n",
    "\n",
    "datasets = [df_RF, df_SVR] \n",
    "\n",
    "# datasets_names = [str(l) for l in range(1,10)]\n",
    "datasets_names = ['RF', 'SVR']\n",
    "\n",
    "all_top_n_feats = []\n",
    "\n",
    "for i, _dataset in enumerate(datasets):\n",
    "    all_top_n_feats.extend(list(_dataset.loc[:number_features-1,'features'].values))\n",
    "    all_top_n_feats = list(set(all_top_n_feats))\n",
    "    "
   ]
  },
  {
   "cell_type": "code",
   "execution_count": 18,
   "metadata": {},
   "outputs": [
    {
     "data": {
      "image/png": "[encoded data removed]",
      "text/plain": [
       "<Figure size 1440x432 with 1 Axes>"
      ]
     },
     "metadata": {
      "needs_background": "light"
     },
     "output_type": "display_data"
    }
   ],
   "source": [
    "# Plot the feature importances from RF and SVR models for the raw dataset\n",
    "\n",
    "plt.figure(figsize=(20,6))\n",
    "\n",
    "# plt.title(\"TNG-SIM All Dataset Add-on Feature Importances \\n from Random Forests and Support Vector Regressor\")\n",
    "\n",
    "for i, _dataset in enumerate(datasets):\n",
    "    dataset = _dataset.copy()\n",
    "    \n",
    "    dataset.loc[1:,'r_sq_score'] = dataset.loc[:,'r_sq_score'].diff()[1:]\n",
    "\n",
    "    importances = dataset.loc[:number_features -1, 'r_sq_score']\n",
    "    importances.index = dataset.loc[:number_features-1,'features']\n",
    "    \n",
    "    \n",
    "    for l in [l for l in all_top_n_feats if l not in importances.index]:\n",
    "        importances[l] = 0\n",
    "        \n",
    "    importances.sort_index(inplace=True)\n",
    "#     color_list = cm.Spectral_r(30*i+20)\n",
    "#     color_list = cm.Spectral_r(60*i+200)\n",
    "    color_list = cm.Spectral_r(200*i)\n",
    "\n",
    "#     print(color_list)\n",
    "    plt.bar(np.arange(len(importances))+0.05*(-i), importances, \n",
    "        align=\"center\", width=0.2, alpha = 0.5, label = datasets_names[i], \n",
    "        color = color_list)\n",
    "    \n",
    "    plt.xticks(range(len(list(importances.index))), labels = list(importances.index), rotation=90)\n",
    "    plt.rc('xtick', labelsize=15) \n",
    "    plt.rc('ytick', labelsize=15) \n",
    "    # Pad margins so that markers don't get clipped by the axes\n",
    "    plt.margins(0.2)\n",
    "    plt.ylabel(r'Incremental $R^{2}$ score by feature', size=15)\n",
    "    plt.legend(loc='upper right', fontsize=15)\n",
    "    # Tweak spacing to prevent clipping of tick-labels\n",
    "    plt.subplots_adjust(bottom=0.2)\n",
    "    \n",
    "# plt.savefig('TNG-SIM_images/v25_Addon_FeatureImportances_RF_SVR/AllDataset_FeatImp_Raw_RF_SVR_papernames_notitle.pdf', dpi=500)\n",
    "    "
   ]
  },
  {
   "cell_type": "markdown",
   "metadata": {},
   "source": [
    "## All Dataset 0D"
   ]
  },
  {
   "cell_type": "code",
   "execution_count": 19,
   "metadata": {},
   "outputs": [],
   "source": [
    "df_RF_hs = pd.read_csv('TNG-SIM_images/v19_RF_FeatRank_0D/v19_TNG_0D_AllDatasetwMvir_Max_r_scores_by_add_column_method.csv')\n",
    "df_SVR_hs = pd.read_csv('TNG-SIM_images/v20_SVR_0D/v20_TNG-SIM_0DwMvir_AllDataset_SVR_Max r scores by add column method.csv')\n",
    "    "
   ]
  },
  {
   "cell_type": "code",
   "execution_count": 20,
   "metadata": {},
   "outputs": [
    {
     "name": "stdout",
     "output_type": "stream",
     "text": [
      "tresh\n",
      "tresh\n"
     ]
    }
   ],
   "source": [
    "number_features = 5\n",
    "list_features = []\n",
    "\n",
    "fdict_RF_hs = translate_logfeatures_to_nonlognames(df_RF_hs.features,return_dictionary=False)\n",
    "fdict_SVR_hs = translate_logfeatures_to_nonlognames(df_SVR_hs.features,return_dictionary=False)\n",
    "\n",
    "df_RF_hs.features = df_RF_hs.features.map(dict(zip(df_RF_hs.features, fdict_RF_hs)))\n",
    "df_SVR_hs.features = df_SVR_hs.features.map(dict(zip(df_SVR_hs.features, fdict_SVR_hs)))\n",
    "\n",
    "datasets = [df_RF_hs, df_SVR_hs] \n",
    "\n",
    "# datasets_names = [str(l) for l in range(1,10)]\n",
    "datasets_names = ['RF', 'SVR']\n",
    "\n",
    "\n",
    "all_top_n_feats = []\n",
    "\n",
    "for i, _dataset in enumerate(datasets):\n",
    "    all_top_n_feats.extend(list(_dataset.loc[:number_features-1,'features'].values))\n",
    "    all_top_n_feats = list(set(all_top_n_feats))"
   ]
  },
  {
   "cell_type": "code",
   "execution_count": 22,
   "metadata": {},
   "outputs": [
    {
     "data": {
      "image/png": "[encoded data removed]",
      "text/plain": [
       "<Figure size 1440x432 with 1 Axes>"
      ]
     },
     "metadata": {
      "needs_background": "light"
     },
     "output_type": "display_data"
    }
   ],
   "source": [
    "# Plot the feature importances from RF and SVR models for the 0D dataset\n",
    "\n",
    "plt.figure(figsize=(20,6))\n",
    "\n",
    "# plt.title(\"TNG-SIM All Dataset Add-on Feature Importances from halo-scaled dataset (0D+Mvir) \\n from Random Forests and Support Vector Regressor\")\n",
    "\n",
    "for i, _dataset in enumerate(datasets):\n",
    "    dataset = _dataset.copy()\n",
    "    \n",
    "    dataset.loc[1:,'r_sq_score'] = dataset.loc[:,'r_sq_score'].diff()[1:]\n",
    "\n",
    "    importances = dataset.loc[:number_features -1, 'r_sq_score']\n",
    "    importances.index = dataset.loc[:number_features-1,'features']\n",
    "    \n",
    "    \n",
    "    for l in [l for l in all_top_n_feats if l not in importances.index]:\n",
    "        importances[l] = 0\n",
    "        \n",
    "    importances.sort_index(inplace=True)\n",
    "#     color_list = cm.Spectral_r(30*i+20)\n",
    "#     color_list = cm.Spectral_r(60*i+200)\n",
    "    color_list = cm.Spectral_r(200*i)\n",
    "\n",
    "#     print(color_list)\n",
    "    plt.bar(np.arange(len(importances))+0.05*(-i), importances, \n",
    "        align=\"center\", width=0.2, alpha = 0.5, label = datasets_names[i], \n",
    "        color = color_list)\n",
    "    \n",
    "    plt.xticks(range(len(list(importances.index))), labels = list(importances.index), rotation=90)\n",
    "    # Pad margins so that markers don't get clipped by the axes\n",
    "    plt.rc('xtick', labelsize=15) \n",
    "    plt.rc('ytick', labelsize=15)\n",
    "    plt.margins(0.2)\n",
    "    plt.ylabel(r'Incremental $R^{2}$ score by feature', size=15)\n",
    "\n",
    "    plt.legend(loc='upper right', fontsize=15)\n",
    "    # Tweak spacing to prevent clipping of tick-labels\n",
    "    plt.subplots_adjust(bottom=0.2)\n",
    "    \n",
    "# plt.savefig('TNG-SIM_images/v25_Addon_FeatureImportances_RF_SVR/AllDataset_FeatImp_0DwMvir_RF_SVR_papernames_notitle.pdf', dpi=500)\n",
    "    "
   ]
  },
  {
   "cell_type": "code",
   "execution_count": null,
   "metadata": {},
   "outputs": [],
   "source": []
  }
 ],
 "metadata": {
  "kernelspec": {
   "display_name": "native",
   "language": "python",
   "name": "native"
  },
  "language_info": {
   "codemirror_mode": {
    "name": "ipython",
    "version": 3
   },
   "file_extension": ".py",
   "mimetype": "text/x-python",
   "name": "python",
   "nbconvert_exporter": "python",
   "pygments_lexer": "ipython3",
   "version": "3.9.7"
  }
 },
 "nbformat": 4,
 "nbformat_minor": 4
}
